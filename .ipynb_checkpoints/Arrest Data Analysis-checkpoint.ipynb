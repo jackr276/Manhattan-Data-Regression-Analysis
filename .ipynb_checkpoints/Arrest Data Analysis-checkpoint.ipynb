{
 "cells": [
  {
   "cell_type": "markdown",
   "id": "aafa53c8-4bef-4ed9-a324-19c88ecfa99d",
   "metadata": {},
   "source": [
    "# Arrest data in NYC, an exploration and regression analysis\n",
    "## Author: Jack Robbins"
   ]
  },
  {
   "cell_type": "code",
   "execution_count": 28,
   "id": "8f446f30-393b-402d-b1af-57b636422382",
   "metadata": {},
   "outputs": [],
   "source": [
    "# Important imports\n",
    "import pandas as pd\n",
    "import numpy as np\n",
    "import matplotlib.pyplot as plt\n",
    "import seaborn as sns\n",
    "from IPython.display import display, HTML\n",
    "from sklearn import preprocessing\n",
    "from matplotlib.gridspec import GridSpec"
   ]
  },
  {
   "cell_type": "code",
   "execution_count": 29,
   "id": "40ccb8cc-3576-47d8-b0c1-0d9abdb20fcf",
   "metadata": {},
   "outputs": [],
   "source": [
    "# Read in our dataframe\n",
    "arrests = pd.read_csv(\"data/NYPD_Arrests_Data__Historic__20241018.csv\")"
   ]
  },
  {
   "cell_type": "code",
   "execution_count": 30,
   "id": "0c4055df-3105-4aa2-87f5-c8e2299971ab",
   "metadata": {},
   "outputs": [
    {
     "data": {
      "text/html": [
       "<div>\n",
       "<style scoped>\n",
       "    .dataframe tbody tr th:only-of-type {\n",
       "        vertical-align: middle;\n",
       "    }\n",
       "\n",
       "    .dataframe tbody tr th {\n",
       "        vertical-align: top;\n",
       "    }\n",
       "\n",
       "    .dataframe thead th {\n",
       "        text-align: right;\n",
       "    }\n",
       "</style>\n",
       "<table border=\"1\" class=\"dataframe\">\n",
       "  <thead>\n",
       "    <tr style=\"text-align: right;\">\n",
       "      <th></th>\n",
       "      <th>ARREST_KEY</th>\n",
       "      <th>ARREST_DATE</th>\n",
       "      <th>PD_CD</th>\n",
       "      <th>PD_DESC</th>\n",
       "      <th>KY_CD</th>\n",
       "      <th>OFNS_DESC</th>\n",
       "      <th>LAW_CODE</th>\n",
       "      <th>LAW_CAT_CD</th>\n",
       "      <th>ARREST_BORO</th>\n",
       "      <th>ARREST_PRECINCT</th>\n",
       "      <th>JURISDICTION_CODE</th>\n",
       "      <th>AGE_GROUP</th>\n",
       "      <th>PERP_SEX</th>\n",
       "      <th>PERP_RACE</th>\n",
       "      <th>X_COORD_CD</th>\n",
       "      <th>Y_COORD_CD</th>\n",
       "      <th>Latitude</th>\n",
       "      <th>Longitude</th>\n",
       "      <th>Lon_Lat</th>\n",
       "    </tr>\n",
       "  </thead>\n",
       "  <tbody>\n",
       "    <tr>\n",
       "      <th>0</th>\n",
       "      <td>186134240</td>\n",
       "      <td>08/07/2018</td>\n",
       "      <td>184.0</td>\n",
       "      <td>NaN</td>\n",
       "      <td>NaN</td>\n",
       "      <td>NaN</td>\n",
       "      <td>PL 12070E1</td>\n",
       "      <td>F</td>\n",
       "      <td>K</td>\n",
       "      <td>73</td>\n",
       "      <td>0.0</td>\n",
       "      <td>45-64</td>\n",
       "      <td>M</td>\n",
       "      <td>BLACK</td>\n",
       "      <td>1007585.0</td>\n",
       "      <td>183788.0</td>\n",
       "      <td>40.671110</td>\n",
       "      <td>-73.915881</td>\n",
       "      <td>POINT (-73.91588130999997 40.67110980800004)</td>\n",
       "    </tr>\n",
       "    <tr>\n",
       "      <th>1</th>\n",
       "      <td>220476154</td>\n",
       "      <td>11/13/2020</td>\n",
       "      <td>397.0</td>\n",
       "      <td>ROBBERY,OPEN AREA UNCLASSIFIED</td>\n",
       "      <td>105.0</td>\n",
       "      <td>ROBBERY</td>\n",
       "      <td>PL 1600500</td>\n",
       "      <td>F</td>\n",
       "      <td>B</td>\n",
       "      <td>40</td>\n",
       "      <td>0.0</td>\n",
       "      <td>25-44</td>\n",
       "      <td>M</td>\n",
       "      <td>BLACK</td>\n",
       "      <td>1005041.0</td>\n",
       "      <td>234533.0</td>\n",
       "      <td>40.810398</td>\n",
       "      <td>-73.924895</td>\n",
       "      <td>POINT (-73.92489531099994 40.810398494000026)</td>\n",
       "    </tr>\n",
       "    <tr>\n",
       "      <th>2</th>\n",
       "      <td>199148493</td>\n",
       "      <td>07/01/2019</td>\n",
       "      <td>440.0</td>\n",
       "      <td>NaN</td>\n",
       "      <td>NaN</td>\n",
       "      <td>NaN</td>\n",
       "      <td>PL 1553502</td>\n",
       "      <td>F</td>\n",
       "      <td>M</td>\n",
       "      <td>23</td>\n",
       "      <td>1.0</td>\n",
       "      <td>25-44</td>\n",
       "      <td>M</td>\n",
       "      <td>BLACK HISPANIC</td>\n",
       "      <td>998829.0</td>\n",
       "      <td>226859.0</td>\n",
       "      <td>40.789348</td>\n",
       "      <td>-73.947352</td>\n",
       "      <td>POINT (-73.94735241299998 40.78934789300007)</td>\n",
       "    </tr>\n",
       "    <tr>\n",
       "      <th>3</th>\n",
       "      <td>209928408</td>\n",
       "      <td>02/22/2020</td>\n",
       "      <td>569.0</td>\n",
       "      <td>MARIJUANA, SALE 4 &amp; 5</td>\n",
       "      <td>235.0</td>\n",
       "      <td>DANGEROUS DRUGS</td>\n",
       "      <td>PL 2214000</td>\n",
       "      <td>M</td>\n",
       "      <td>M</td>\n",
       "      <td>32</td>\n",
       "      <td>0.0</td>\n",
       "      <td>25-44</td>\n",
       "      <td>M</td>\n",
       "      <td>BLACK</td>\n",
       "      <td>1001610.0</td>\n",
       "      <td>241367.0</td>\n",
       "      <td>40.829163</td>\n",
       "      <td>-73.937272</td>\n",
       "      <td>POINT (-73.93727189399993 40.829163304000076)</td>\n",
       "    </tr>\n",
       "    <tr>\n",
       "      <th>4</th>\n",
       "      <td>220330574</td>\n",
       "      <td>11/10/2020</td>\n",
       "      <td>101.0</td>\n",
       "      <td>ASSAULT 3</td>\n",
       "      <td>344.0</td>\n",
       "      <td>ASSAULT 3 &amp; RELATED OFFENSES</td>\n",
       "      <td>PL 1200001</td>\n",
       "      <td>M</td>\n",
       "      <td>B</td>\n",
       "      <td>49</td>\n",
       "      <td>0.0</td>\n",
       "      <td>25-44</td>\n",
       "      <td>M</td>\n",
       "      <td>WHITE</td>\n",
       "      <td>1024396.0</td>\n",
       "      <td>250744.0</td>\n",
       "      <td>40.854826</td>\n",
       "      <td>-73.854880</td>\n",
       "      <td>POINT (-73.85487970999998 40.85482622300003)</td>\n",
       "    </tr>\n",
       "  </tbody>\n",
       "</table>\n",
       "</div>"
      ],
      "text/plain": [
       "   ARREST_KEY ARREST_DATE  PD_CD                         PD_DESC  KY_CD  \\\n",
       "0   186134240  08/07/2018  184.0                             NaN    NaN   \n",
       "1   220476154  11/13/2020  397.0  ROBBERY,OPEN AREA UNCLASSIFIED  105.0   \n",
       "2   199148493  07/01/2019  440.0                             NaN    NaN   \n",
       "3   209928408  02/22/2020  569.0           MARIJUANA, SALE 4 & 5  235.0   \n",
       "4   220330574  11/10/2020  101.0                       ASSAULT 3  344.0   \n",
       "\n",
       "                      OFNS_DESC    LAW_CODE LAW_CAT_CD ARREST_BORO  \\\n",
       "0                           NaN  PL 12070E1          F           K   \n",
       "1                       ROBBERY  PL 1600500          F           B   \n",
       "2                           NaN  PL 1553502          F           M   \n",
       "3               DANGEROUS DRUGS  PL 2214000          M           M   \n",
       "4  ASSAULT 3 & RELATED OFFENSES  PL 1200001          M           B   \n",
       "\n",
       "   ARREST_PRECINCT  JURISDICTION_CODE AGE_GROUP PERP_SEX       PERP_RACE  \\\n",
       "0               73                0.0     45-64        M           BLACK   \n",
       "1               40                0.0     25-44        M           BLACK   \n",
       "2               23                1.0     25-44        M  BLACK HISPANIC   \n",
       "3               32                0.0     25-44        M           BLACK   \n",
       "4               49                0.0     25-44        M           WHITE   \n",
       "\n",
       "   X_COORD_CD  Y_COORD_CD   Latitude  Longitude  \\\n",
       "0   1007585.0    183788.0  40.671110 -73.915881   \n",
       "1   1005041.0    234533.0  40.810398 -73.924895   \n",
       "2    998829.0    226859.0  40.789348 -73.947352   \n",
       "3   1001610.0    241367.0  40.829163 -73.937272   \n",
       "4   1024396.0    250744.0  40.854826 -73.854880   \n",
       "\n",
       "                                         Lon_Lat  \n",
       "0   POINT (-73.91588130999997 40.67110980800004)  \n",
       "1  POINT (-73.92489531099994 40.810398494000026)  \n",
       "2   POINT (-73.94735241299998 40.78934789300007)  \n",
       "3  POINT (-73.93727189399993 40.829163304000076)  \n",
       "4   POINT (-73.85487970999998 40.85482622300003)  "
      ]
     },
     "execution_count": 30,
     "metadata": {},
     "output_type": "execute_result"
    }
   ],
   "source": [
    "# Let's see what we're working with\n",
    "arrests.head()"
   ]
  },
  {
   "cell_type": "markdown",
   "id": "27b6e773-8fa8-4e96-82ad-9fcaa2516dd7",
   "metadata": {},
   "source": [
    "## Data Preprocessing\n",
    "As we can see from above, we have a lot of NULLs and data that we may or may not want. We'll clean this data up before doing anything involving data analysis."
   ]
  },
  {
   "cell_type": "code",
   "execution_count": 31,
   "id": "a4812c1a-fe4e-412c-98a3-6bcfe967d9be",
   "metadata": {},
   "outputs": [
    {
     "name": "stdout",
     "output_type": "stream",
     "text": [
      "Detecting missing values:\n",
      " ARREST_KEY               0\n",
      "ARREST_DATE              0\n",
      "PD_CD                  876\n",
      "PD_DESC               9169\n",
      "KY_CD                 9756\n",
      "OFNS_DESC             9169\n",
      "LAW_CODE               196\n",
      "LAW_CAT_CD           23600\n",
      "ARREST_BORO              8\n",
      "ARREST_PRECINCT          0\n",
      "JURISDICTION_CODE       10\n",
      "AGE_GROUP               17\n",
      "PERP_SEX                 0\n",
      "PERP_RACE                0\n",
      "X_COORD_CD               1\n",
      "Y_COORD_CD               1\n",
      "Latitude                 1\n",
      "Longitude                1\n",
      "Lon_Lat                  1\n",
      "dtype: int64\n"
     ]
    }
   ],
   "source": [
    "null_values=arrests.isnull().sum()\n",
    "print(\"Detecting missing values:\\n\", null_values)"
   ]
  },
  {
   "cell_type": "markdown",
   "id": "75f1968d-f990-421b-a949-03a12b7761aa",
   "metadata": {},
   "source": [
    "### Unneeded columns\n",
    "Looking here, we have a column titled \"ARREST KEY\" which is likely the primary key for the database where this is stored. We don't need this column and therefore will drop it. We also don't need \"LON_LAT\" as it is just a combination of two other columns. The same can be said for X_COORD_CD and Y_COORD_CD, because these are just proxies for longitutde and latitute. Offense description is a free entry text field, and likely to contain large amounts of junk in it with no consistent pattern, so we'll get rid of that as well."
   ]
  },
  {
   "cell_type": "code",
   "execution_count": 32,
   "id": "15a5a357-c29c-4ee0-8cff-54c8f29ea19f",
   "metadata": {},
   "outputs": [],
   "source": [
    "# Dropping columns\n",
    "arrests.drop(['ARREST_KEY', 'X_COORD_CD', 'Y_COORD_CD',\\\n",
    "                 'OFNS_DESC','Lon_Lat'], axis=1, inplace=True)"
   ]
  },
  {
   "cell_type": "code",
   "execution_count": 33,
   "id": "fc9975d3-5fe5-4c5f-afcf-a3fe311ad92b",
   "metadata": {},
   "outputs": [
    {
     "name": "stdout",
     "output_type": "stream",
     "text": [
      "Detecting missing values:\n",
      " ARREST_DATE              0\n",
      "PD_CD                  876\n",
      "PD_DESC               9169\n",
      "KY_CD                 9756\n",
      "LAW_CODE               196\n",
      "LAW_CAT_CD           23600\n",
      "ARREST_BORO              8\n",
      "ARREST_PRECINCT          0\n",
      "JURISDICTION_CODE       10\n",
      "AGE_GROUP               17\n",
      "PERP_SEX                 0\n",
      "PERP_RACE                0\n",
      "Latitude                 1\n",
      "Longitude                1\n",
      "dtype: int64\n"
     ]
    }
   ],
   "source": [
    "# Let's see how w're looking now\n",
    "null_values=arrests.isnull().sum()\n",
    "print(\"Detecting missing values:\\n\", null_values)"
   ]
  },
  {
   "cell_type": "code",
   "execution_count": 34,
   "id": "54e78d72-de31-42ad-b1f7-52117a0adede",
   "metadata": {},
   "outputs": [
    {
     "data": {
      "text/plain": [
       "(5725522, 14)"
      ]
     },
     "execution_count": 34,
     "metadata": {},
     "output_type": "execute_result"
    }
   ],
   "source": [
    "arrests.shape"
   ]
  },
  {
   "cell_type": "markdown",
   "id": "b04450e3-4dc9-498f-ba79-853c59fd0422",
   "metadata": {},
   "source": [
    "### Removing NA's\n",
    "As we can see, we have nearly 6 million rows of data to work with here. Additionally, there are only at most around 40,000 NA's in the dataset. In my opinion, dropping these is an accceptable loss. A lot of these NA's are also in categorical data columns, so there's really no way to fill them accordingly."
   ]
  },
  {
   "cell_type": "code",
   "execution_count": 35,
   "id": "f27530ca-ec11-4249-850e-585603ef2192",
   "metadata": {},
   "outputs": [],
   "source": [
    "# Drop any rows that have at least one null column\n",
    "arrests.dropna(how='any', inplace=True)"
   ]
  },
  {
   "cell_type": "code",
   "execution_count": 36,
   "id": "b7cc06c2-982d-4159-8326-a4a941572645",
   "metadata": {},
   "outputs": [
    {
     "name": "stdout",
     "output_type": "stream",
     "text": [
      "Detecting missing values:\n",
      " ARREST_DATE          0\n",
      "PD_CD                0\n",
      "PD_DESC              0\n",
      "KY_CD                0\n",
      "LAW_CODE             0\n",
      "LAW_CAT_CD           0\n",
      "ARREST_BORO          0\n",
      "ARREST_PRECINCT      0\n",
      "JURISDICTION_CODE    0\n",
      "AGE_GROUP            0\n",
      "PERP_SEX             0\n",
      "PERP_RACE            0\n",
      "Latitude             0\n",
      "Longitude            0\n",
      "dtype: int64\n"
     ]
    }
   ],
   "source": [
    "# Let's see how w're looking now\n",
    "null_values=arrests.isnull().sum()\n",
    "print(\"Detecting missing values:\\n\", null_values)"
   ]
  },
  {
   "cell_type": "code",
   "execution_count": 37,
   "id": "5a3ce10b-65d1-451f-a3ee-52bed8fb87be",
   "metadata": {},
   "outputs": [
    {
     "data": {
      "text/plain": [
       "(5692330, 14)"
      ]
     },
     "execution_count": 37,
     "metadata": {},
     "output_type": "execute_result"
    }
   ],
   "source": [
    "arrests.shape"
   ]
  },
  {
   "cell_type": "markdown",
   "id": "e2885c46-16bb-4b32-8aaa-c38bca00d916",
   "metadata": {},
   "source": [
    "As we can see, we still have well over 5 million records to analyze after doing the NA removal, and currently no more NA's in our dataset"
   ]
  },
  {
   "cell_type": "markdown",
   "id": "14fb29f9-85a1-4468-8df5-d212583a24ea",
   "metadata": {},
   "source": [
    "### Cleaning up type mismatches and other miscellaneous preprocessing tasks"
   ]
  },
  {
   "cell_type": "code",
   "execution_count": 38,
   "id": "453e353e-64b4-4cfe-a3a6-62d5c369c8fa",
   "metadata": {},
   "outputs": [
    {
     "name": "stdout",
     "output_type": "stream",
     "text": [
      "<class 'pandas.core.frame.DataFrame'>\n",
      "Index: 5692330 entries, 1 to 5725521\n",
      "Data columns (total 14 columns):\n",
      " #   Column             Dtype  \n",
      "---  ------             -----  \n",
      " 0   ARREST_DATE        object \n",
      " 1   PD_CD              float64\n",
      " 2   PD_DESC            object \n",
      " 3   KY_CD              float64\n",
      " 4   LAW_CODE           object \n",
      " 5   LAW_CAT_CD         object \n",
      " 6   ARREST_BORO        object \n",
      " 7   ARREST_PRECINCT    int64  \n",
      " 8   JURISDICTION_CODE  float64\n",
      " 9   AGE_GROUP          object \n",
      " 10  PERP_SEX           object \n",
      " 11  PERP_RACE          object \n",
      " 12  Latitude           float64\n",
      " 13  Longitude          float64\n",
      "dtypes: float64(5), int64(1), object(8)\n",
      "memory usage: 651.4+ MB\n"
     ]
    }
   ],
   "source": [
    "arrests.info()"
   ]
  },
  {
   "cell_type": "markdown",
   "id": "2d3fc506-6338-4cfe-a223-5d29ea271f4d",
   "metadata": {},
   "source": [
    "Arrest date is one that specifically interests me, but I'm fairly certain that date is too granular. However **month** may not be, so I'm going to convert all of these dates to months."
   ]
  },
  {
   "cell_type": "code",
   "execution_count": 40,
   "id": "97c25671-658e-4138-b58e-4897c0ca8167",
   "metadata": {},
   "outputs": [],
   "source": [
    "#Convert a date to a month\n",
    "def date_to_months(date):\n",
    "    s = date.split(\"/\")\n",
    "    if(len(s) != 3):\n",
    "        return Nan\n",
    "    else:\n",
    "        return s[0]\n",
    "\n",
    "arrests['ARREST_MONTH'] = arrests['ARREST_DATE'].apply(date_to_months)"
   ]
  },
  {
   "cell_type": "code",
   "execution_count": 41,
   "id": "aae0c582-15fd-4de4-9c42-d461231c15b4",
   "metadata": {},
   "outputs": [
    {
     "name": "stdout",
     "output_type": "stream",
     "text": [
      "Detecting missing values:\n",
      " ARREST_DATE          0\n",
      "PD_CD                0\n",
      "PD_DESC              0\n",
      "KY_CD                0\n",
      "LAW_CODE             0\n",
      "LAW_CAT_CD           0\n",
      "ARREST_BORO          0\n",
      "ARREST_PRECINCT      0\n",
      "JURISDICTION_CODE    0\n",
      "AGE_GROUP            0\n",
      "PERP_SEX             0\n",
      "PERP_RACE            0\n",
      "Latitude             0\n",
      "Longitude            0\n",
      "ARREST_MONTH         0\n",
      "dtype: int64\n"
     ]
    }
   ],
   "source": [
    "# Let's see how we're looking now\n",
    "null_values=arrests.isnull().sum()\n",
    "print(\"Detecting missing values:\\n\", null_values)"
   ]
  },
  {
   "cell_type": "code",
   "execution_count": null,
   "id": "d85cb30e-191c-4fe9-9aae-e61e95674124",
   "metadata": {},
   "outputs": [],
   "source": []
  }
 ],
 "metadata": {
  "kernelspec": {
   "display_name": "Python 3 (ipykernel)",
   "language": "python",
   "name": "python3"
  },
  "language_info": {
   "codemirror_mode": {
    "name": "ipython",
    "version": 3
   },
   "file_extension": ".py",
   "mimetype": "text/x-python",
   "name": "python",
   "nbconvert_exporter": "python",
   "pygments_lexer": "ipython3",
   "version": "3.9.19"
  }
 },
 "nbformat": 4,
 "nbformat_minor": 5
}
