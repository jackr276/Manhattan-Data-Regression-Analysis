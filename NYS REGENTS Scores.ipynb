{
 "cells": [
  {
   "cell_type": "markdown",
   "id": "51882177-abde-4cc2-aea2-0c3251846bec",
   "metadata": {},
   "source": [
    "# NYS REGENTS Highschool State Examination Scores\n",
    "## An analysis and regression of scores from 2014-2019\n",
    "### Author: Jack Robbins"
   ]
  },
  {
   "cell_type": "code",
   "execution_count": null,
   "id": "b29ada8d-34fb-43af-bb8c-70dd51a43a0a",
   "metadata": {},
   "outputs": [],
   "source": [
    "2014-15_to_2017-19_NYC_Regents_Exam_Results_-_Public_20241026"
   ]
  }
 ],
 "metadata": {
  "kernelspec": {
   "display_name": "Python 3 (ipykernel)",
   "language": "python",
   "name": "python3"
  },
  "language_info": {
   "codemirror_mode": {
    "name": "ipython",
    "version": 3
   },
   "file_extension": ".py",
   "mimetype": "text/x-python",
   "name": "python",
   "nbconvert_exporter": "python",
   "pygments_lexer": "ipython3",
   "version": "3.9.19"
  }
 },
 "nbformat": 4,
 "nbformat_minor": 5
}
